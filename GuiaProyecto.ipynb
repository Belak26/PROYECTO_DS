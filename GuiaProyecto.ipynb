{
 "cells": [
  {
   "cell_type": "markdown",
   "metadata": {},
   "source": [
    "# Guía para presentación de proyectos.\n",
    "> Se especifican los componentes básicos que deberá tener el proyecto final del curso `Proyecto en Ciencia de Datos`."
   ]
  },
  {
   "cell_type": "markdown",
   "metadata": {},
   "source": [
    "___\n",
    "## 1. Entregable.\n",
    "Los trabajos deben tener los siguientes componentes básicos.\n",
    "\n",
    "#### 1. **Título del trabajo:**\n",
    "\n","Employee safty assistant \n"
    "\n",
    "#### 2. **Introducción:**\n",
    "\n",
    "La seguridad de los trabajadores es una prioridad para nuestro proyecto. En este caso las obras de construcción ITESO, es especialmente importante garantizar que los trabajadores utilicen los equipos de seguridad adecuados para evitar accidentes.\n",
    "Se busca la implementación de un modelo de detección de equipo de seguridad al trabajar para poder ayudar con garantizar la seguridad del trabajador.\n",
    " Se usará para detectar si los trabajadores están usando casco y chaleco.\n",
    "\n",
    "\n",
    "#### 3. **Antecedentes:**\n",
    "\n",
    "En varias construcciones a lo largo de GDL se ha podido ver gracias a las noticias o a compañeros que se dedican a la construcción que en muchas obras los trabajadores no siguen las medidas de seguridad lo que causa grandes perdidas no solo humanas sino también monetarias para la empresa o la constructora encargada, por lo que con la ayuda de los modelos ya pre entrenados y el poder darle etiquetas a los objetos dentro de imágenes vimos viable el hacer un modelo que pueda dar una solución a esos problemas.\n",
    "\n",
    "#### 4. **Objetivos:**\n",
    "\n",
    "+ **Objetivos Generales:**\n",
    "+ El objetivo es desarrollar un modelo computacional que de una alarma si detecta a una persona sin su casco de seguridad\n",
    "+ Esto está pensado para ser desarrollado en una construction.\n",
    "+ El poder hacer que se tenga una mayor seguridad en los lugares de construcción.\n",
    "+ El también poder implementar lo visto en clase y hacer que el modelo funcione de manera correcta.\n",
    "\n",
    "    \n",
    "+ **Objetivos Específicos:**\n",
    "+ Si el modelo detecta que un trabajador no está usando el equipo de seguridad adecuado, emitirá una alerta.\n",
    "+ El poder hacer uso de YOLOV5 que es un modelo de aprendizaje automático.\n",
    "+ El crear una api funcional para poder implementar el modelo en varias construcciones.\n",
    "\n",
    "\n",
    "#### 5. **Planteamiento del problema:**\n",
    "\n",
    "En las construcciones muchas veces las medidas de seguridad no son seguidas por los trabajadores por lo que pasan accidentes que se podrían evitar\n",
    "sin la necesidad de que estuviera un supervisor siempre pendiente de todos los trabajadores, esto puede ayudar a que la empresa tenga menos accidentes\n",
    "fatales, para lograr esto investigamos que siempre en las obras hay una entrada donde se deben registrar o al menos anunciar que los trabajadores llegaron, así que en dichas entradas sería el poner una camara para que grabe y de las alertas de sí algún trabajador no cumple con las normas de seguridad.\n",
    "\n",
    "#### 6. **Desarrollo de la solución:**\n",
    "Esta es la parte central del informe y debe dividirse en varias subsecciones:\n",
    "\n",
    "+ **EDA (Análisis Exploratorio de Datos):** Aquí, los estudiantes deben mostrar cómo exploraron y analizaron los datos, identificando tendencias, patrones y características importantes.\n",
    "\n",
    "+ **Data Wrangling:** En esta sección, se describe cómo se limpiaron y prepararon los datos para su análisis, incluyendo la eliminación de valores atípicos y la imputación de datos faltantes.\n",
    "\n",
    "+ **Dataset final a trabajar:** Los estudiantes deben explicar qué datos seleccionaron para su proyecto y por qué eligieron esos datos específicos.\n",
    "\n",
    "+ **Entrenamiento del modelo:** En esta parte, se detalla cómo se entrenó el modelo de ciencia de datos, qué algoritmos se utilizaron y cómo se evaluó el rendimiento del modelo.\n",
    "\n",
    "+ **Servir el modelo (API):** Describe cómo se creó una API para servir el modelo a través de una interfaz web o un servicio.\n",
    "\n",
    "+ **Conteneirizar del servicio:** Explica cómo se empaquetó el servicio y se subió a una plataforma de nube. Esto puede incluir el uso de contenedores como Docker.\n",
    "\n",
    "+ **Despliegue del servicio en la nube y monitoreo:** Detalla cómo se implementó el servicio en la nube, cómo se configuraron los recursos y cómo se aseguró su disponibilidad.\n",
    "\n",
    "#### 7. **Conclusiones:**\n",
    "En esta sección, los estudiantes deben resumir los resultados del proyecto, destacar los logros, discutir los desafíos enfrentados y brindar recomendaciones o posibles mejoras futuras.\n",
    "\n",
    "#### 8. **Referencias:**\n",
    "Los estudiantes deben proporcionar una lista de todas las fuentes, libros, documentos técnicos, sitios web y recursos utilizados durante el proyecto. Esto incluye cualquier bibliografía y recursos citados en el informe."
   ]
  },
  {
   "cell_type": "markdown",
   "metadata": {},
   "source": [
    "___\n",
    "## 2 Presentación.\n",
    "> Recuerden que la nota del proyecto es mitad el trabajo, y mitad la presentación. Deben hacer una presentación en power point para presentar el trabajo en la clase. La presentación, además de llevar todos los componentes básicos descritos en el entregable, debe llevar una tabla de contenido.\n",
    ">\n",
    "> - Presentación: 15 minutos.\n",
    "> - Seguir estas recomendaciones:\n",
    "    > - https://www.ncsl.org/legislative-staff/lscc/tips-for-making-effective-powerpoint-presentations\n",
    "    > - https://www.trentu.ca/academicskills/how-guides/how-write-university/how-approach-any-assignment/creating-effective-powerpoint-slides"
   ]
  },
  {
   "cell_type": "markdown",
   "source": [],
   "metadata": {
    "collapsed": false
   }
  },
  {
   "cell_type": "markdown",
   "metadata": {},
   "source": [
    "<script>\n",
    "  $(document).ready(function(){\n",
    "    $('div.prompt').hide();\n",
    "    $('div.back-to-top').hide();\n",
    "    $('nav#menubar').hide();\n",
    "    $('.breadcrumb').hide();\n",
    "    $('.hidden-print').hide();\n",
    "  });\n",
    "</script>\n",
    "\n",
    "<footer id=\"attribution\" style=\"float:right; color:#808080; background:#fff;\">\n",
    "Created with Jupyter by Cristian Camilo Zapata Zuluaga.\n",
    "</footer>"
   ]
  }
 ],
 "metadata": {
  "kernelspec": {
   "display_name": "Python 3 (ipykernel)",
   "language": "python",
   "name": "python3"
  },
  "language_info": {
   "codemirror_mode": {
    "name": "ipython",
    "version": 3
   },
   "file_extension": ".py",
   "mimetype": "text/x-python",
   "name": "python",
   "nbconvert_exporter": "python",
   "pygments_lexer": "ipython3",
   "version": "3.11.5"
  }
 },
 "nbformat": 4,
 "nbformat_minor": 4
}
